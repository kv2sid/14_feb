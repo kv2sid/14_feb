{
 "cells": [
  {
   "cell_type": "markdown",
   "id": "c9622694-76bb-4bf1-93e2-3c2117a65efe",
   "metadata": {},
   "source": [
    "1. What is multithreading in python? Why is it used? Name the module used to handle threads in python.\n",
    "Answer - Multithreading is a programming technique in python in which threads of execution are created within a single programe, allowing multiple task to performed concurrently. Each programs runs independently of others, but they can share the same memory and resource of the program. \n",
    "\n",
    "Some of the commonly used classes and function in threading module include:\n",
    "1. Thread: This is the main class in the threading module and is used to create thread. It has a 'run' method that decide what thread will do. \n",
    "2. Lock: This is a class that will provide a way to lock out a thread so that other threads cannot access a shared resource at the same time.\n",
    "3. Rlock: It is same a lock class. but it will required at multiple times by the same thread.\n",
    "4. Semaphor: This is a class that allows a fixed number of thread to access the resource.\n",
    "5. Event: This is a class that provides a way of thread to wait for the certain condition to be true.\n",
    "6. Condition: This is a class that provides a way of thread to wait for the certain conditon to be true until the thread will lock.\n",
    "7. ThreadLocal : This is a class that provide a way to create thread-local variable which are variable specific to each thread."
   ]
  },
  {
   "cell_type": "markdown",
   "id": "5f57542f-14ed-4abc-b762-b19a34f0c37c",
   "metadata": {},
   "source": [
    "2. Why threading module used? Write the use of the following functions\n",
    "a. activeCount\n",
    "b. currentThread\n",
    "c. enumerate\n",
    "\n",
    "Answer = Threading module is used for various reson such as -\n",
    "1. Improved performance\n",
    "2. Concurrency\n",
    "3. Simplified programming\n",
    "4. Resource sharing\n",
    "5. Asynchronous programming\n",
    "\n",
    "a) activeCount = In python with the use of active_count method we return the number of active thread count. The syntex of active_thread is\n",
    "threading.active_count()\n",
    "\n",
    "b)currentThread = current_thread(), returns a reference to the current thread object. The syntex for the \n",
    "current_thread is as follows:\n",
    "threading.current_thread()\n",
    "\n",
    "c) enumerate = This is a thread which is used to return the list of all current thread object.\n",
    "The syntex of is as follows:\n",
    "threading.enumerate()"
   ]
  },
  {
   "cell_type": "markdown",
   "id": "fa47bbcd-cbae-4070-88c8-070f10eff210",
   "metadata": {},
   "source": [
    "3. Explain the following functions\n",
    "a. run\n",
    "b. start\n",
    "c. join\n",
    "d. isAlive\n",
    "\n",
    "Answer -a. Run -This method is use when a new thread is started using the 'start'method. It contains the code that will run in the new thread. we can override the 'thread' class to provide our own thread code.\n",
    "\n",
    "b.start - This method starts its own thread that will execute the 'run' method. The start method returns immediately and the new thread begins.\n",
    "\n",
    "c. Join - This method waits for the thread to complete its execution. If we call join() on a thread, the calling thread will block until the called thread completes its execution. The join() method can be used to ensure that a thread has completed before continuing with other tasks.\n",
    "\n",
    "d. isAlive(): This method returns True if the thread is still executing, and False otherwise. It can be used to check the status of a thread, such as to determine if a thread has completed or not."
   ]
  },
  {
   "cell_type": "markdown",
   "id": "23359f08-f128-45ca-b580-48fe10187bfd",
   "metadata": {},
   "source": [
    "4. Write a python program to create two threads. Thread one must print the list of squares and thread\n",
    "two must print the list of cubes"
   ]
  },
  {
   "cell_type": "code",
   "execution_count": 16,
   "id": "d52b4709-9dcc-4fe1-9189-e83482ae463c",
   "metadata": {},
   "outputs": [
    {
     "name": "stdout",
     "output_type": "stream",
     "text": [
      "Squares: [1, 4, 9, 16, 25]\n",
      "Cubes: [1, 8, 27, 64, 125]\n"
     ]
    },
    {
     "data": {
      "text/plain": [
       "<bound method Thread.join of <Thread(Thread-6 (print_cubes), stopped 139958198195776)>>"
      ]
     },
     "execution_count": 16,
     "metadata": {},
     "output_type": "execute_result"
    }
   ],
   "source": [
    "# function for program to create list of squares and list of cubes.\n",
    "\n",
    "import logging\n",
    "import threading\n",
    "logging.basicConfig(filename = 'error5.log',level = logging.ERROR)\n",
    "\n",
    "numbers = [1, 2, 3, 4, 5]\n",
    "\n",
    "try:\n",
    "    def print_squares(numbers):\n",
    "        squares = [num**2 for num in numbers]\n",
    "        print(\"Squares:\", squares)\n",
    "    def print_cubes(numbers):\n",
    "        cubes = [num**3 for num in numbers]\n",
    "        print(\"Cubes:\", cubes)\n",
    "except ValueError as e:\n",
    "    logging.error('This is my vlaue error5{}'.format(e))\n",
    "    print('This is my value error :',e)\n",
    "\n",
    "else:\n",
    "    print_squares(numbers)\n",
    "    print_cubes(numbers)\n",
    "finally:\n",
    "    thread1 = threading.Thread(target=print_squares, args=(numbers,))\n",
    "    thread2 = threading.Thread(target=print_cubes, args=(numbers,))\n",
    "    \n",
    "\n",
    "    \n",
    "t1.start\n",
    "t2.start\n",
    "\n",
    "t1.join\n",
    "t2.join\n",
    "\n"
   ]
  },
  {
   "cell_type": "markdown",
   "id": "27780438-38d0-4055-af12-c11e625c6924",
   "metadata": {},
   "source": [
    "5. State advantages and disadvantages of multithreading\n",
    "\n",
    "Answer - Multiple threading is a techinuque through which we can create a multiple thread in a single process to perform various taks and simultaneausly.\n",
    "Multiplethreading has following advantages:\n",
    "1. Increased performance\n",
    "2. Better resource utiliztion\n",
    "3. simplified programmng\n",
    "4. Improved responsiveness\n",
    "5. Better fault tolerance\n",
    "Following are the disadvantages of multiplethreading:\n",
    "1. Complexity\n",
    "2. Increased Overhead\n",
    "3. Reduce determinism\n",
    "4. Increased debugging\n",
    "5. Resources contention"
   ]
  },
  {
   "cell_type": "markdown",
   "id": "3fd5a2d3-7798-4b16-adda-005e561ef4e7",
   "metadata": {},
   "source": [
    "6. Explain deadlocks and race conditions.\n",
    "\n",
    "Answer - Deadlock occurs when two or more threads are blocked indefinitely, waiting for each other to release resources that they hold. Deadlock can occur when multiple threads try to acquire a lock on a shared resource in a different order, or when a thread acquires multiple locks but doesn't release them in the correct order.\n",
    "A race condition occurs when two or more threads access a shared resource concurrently, and the final outcome depends on the order in which the threads execute. Race conditions can occur when multiple threads try to modify a shared variable without proper synchronization, or when multiple threads try to access a shared resource that is not thread-safe. \n"
   ]
  },
  {
   "cell_type": "code",
   "execution_count": null,
   "id": "86e5eee9-fb5a-4c40-ad48-028441c01146",
   "metadata": {},
   "outputs": [],
   "source": []
  }
 ],
 "metadata": {
  "kernelspec": {
   "display_name": "Python 3 (ipykernel)",
   "language": "python",
   "name": "python3"
  },
  "language_info": {
   "codemirror_mode": {
    "name": "ipython",
    "version": 3
   },
   "file_extension": ".py",
   "mimetype": "text/x-python",
   "name": "python",
   "nbconvert_exporter": "python",
   "pygments_lexer": "ipython3",
   "version": "3.10.8"
  }
 },
 "nbformat": 4,
 "nbformat_minor": 5
}
